{
 "cells": [
  {
   "attachments": {},
   "cell_type": "markdown",
   "metadata": {},
   "source": [
    "# 本周内容\n",
    "\n",
    " - 非口头形式的交流\n",
    " - 瞧，手势，proxemics，back-channels, 肢体语言"
   ]
  },
  {
   "attachments": {},
   "cell_type": "markdown",
   "metadata": {},
   "source": [
    "# 1. Gaze / 瞧\n",
    "\n",
    "作为一种交际工具，凝视有许多作用： \n",
    " - 表明对话的所指 \n",
    " - 共同/相互凝视\n",
    " - 频繁的凝视可以表明对被凝视事物的特殊态度\n",
    " - 管理对话流程"
   ]
  },
  {
   "attachments": {},
   "cell_type": "markdown",
   "metadata": {},
   "source": [
    "Referent Indication / 表明所指\n",
    "\n",
    " - 当用于此目的时，目光被用作一种指向性工具。\n",
    " - 这可以用来区分对话的主题。 \n",
    " - 它可以与指向性的手势相结合。 \n",
    " - 它可以表示对目标对象/人的意见。"
   ]
  },
  {
   "attachments": {},
   "cell_type": "markdown",
   "metadata": {},
   "source": [
    "Mutual Gaze / 相互瞧\n",
    "\n",
    " - 当对话伙伴都看着一个参照物，并显示出对他人目光的意识，这被称为相互或共享的目光。 \n",
    " - 它确保对话伙伴都在谈论同一个参照物。 \n",
    " - 它在形成联合行动计划中发挥了作用。"
   ]
  },
  {
   "attachments": {},
   "cell_type": "markdown",
   "metadata": {},
   "source": [
    "Conversation Management / 对话管理\n",
    "\n",
    " - 凝视可以用来传递对话回合和请求对话回合。 \n",
    " - 凝视可以显示对对话伙伴的意识。 \n",
    " - 凝视可以帮助保持听众的参与。 \n",
    " - 凝视的礼貌性回避已经被证明可以提高HRI的互动质量。"
   ]
  },
  {
   "attachments": {},
   "cell_type": "markdown",
   "metadata": {},
   "source": [
    "# 2. Gestures / 姿势\n",
    "\n",
    " - 在人类对话中，手势具有多种交际功能。 \n",
    "   - 传达信息\n",
    "   - 加重语气\n",
    "   - 管理对话流程 \n",
    "   - 让人看到说话者的思想过程\n",
    "\n",
    "手势有几个成熟的分类法，用于分类。\n",
    "   - 在这里，我将使用Adam Kendon的分类法\n",
    "   - 他规定的手势类别有：节拍手势、隐喻手势、象征性手势、表意手势、象征性手势。\n",
    "\n",
    "Beat Gestures / 节拍手势\n",
    "\n",
    " - 节拍手势是手部有节奏的动作，往往跟随说话的节奏。 \n",
    " - 它们不传达语义，而是用来强调。 \n",
    " - 可以用简单的规则来生成它们。\n",
    "  \n",
    "\n",
    "Metaphoric Gestures\n",
    "\n",
    " - 隐喻性手势在它们所伴随的言语中给出了一个抽象概念的表述。 \n",
    " - 例如，通过在空间中移动手来表示时间的流向，通过向某一方向移动手来表示力的方向。 \n",
    " - 它们可以传达多余的或补充的语义信息。\n",
    "\n",
    "Iconic Gestures / 象征性手势\n",
    " - 象征性手势是具体的手势。它们描绘了物体或实体之间的空间关系、行动方式或运动路径。 \n",
    " - 协同说话的手势常常与说话结合在一起，修改其意义 \n",
    " - 它们可以传达多余的或补充的语义信息。"
   ]
  },
  {
   "attachments": {},
   "cell_type": "markdown",
   "metadata": {},
   "source": [
    "Emblematic Gestures / 表意手势\n",
    "\n",
    " - 有既定含义的编码手势。 例如，O.K.或竖起大拇指。"
   ]
  },
  {
   "attachments": {},
   "cell_type": "markdown",
   "metadata": {},
   "source": [
    "Deictic Gestures / 语词手势\n",
    "\n",
    " - 语词或指向性手势是用来表示所指的。 \n",
    " - 通常是用一个手指来做，但也可以用整个手或肘部。"
   ]
  },
  {
   "attachments": {},
   "cell_type": "markdown",
   "metadata": {},
   "source": [
    "Gesture Structure / 姿势的结构\n",
    "\n",
    " - 一个手势通常包括四个阶段：\n",
    "   - 准备阶段--将手移到开始划动的位置。 \n",
    "   - 划动--手势中最费力的部分，与手势所连接的语言元素相一致。 \n",
    "   - 保持--（可选）在划动阶段结束时保持手的位置。 \n",
    "   - 收回--（可选）将手放回休息位置。 \n",
    " - 每个阶段的时间可以被操纵，以确保手势和语言的同步。"
   ]
  },
  {
   "attachments": {},
   "cell_type": "markdown",
   "metadata": {},
   "source": [
    "Gesture的功能：\n",
    " - 手势已被证明在HRI中具有许多好处：\n",
    " - 更有效/高效的沟通\n",
    " - 提高参与度\n",
    " - 改善信息记忆\n",
    " - 改善主观评价\n",
    " - 模仿手势建立融洽的关系"
   ]
  },
  {
   "attachments": {},
   "cell_type": "markdown",
   "metadata": {},
   "source": [
    "# 2. 社交距离 / Halls Proxemics\n",
    "\n",
    " - 在人际交往的文献中，有一套关于人与人之间距离的意义的拟议原则。\n",
    " - 这些原则定义了人与人之间不同距离的区域：\n",
    "   - 亲密距离（1-46厘米）\n",
    "   - 个人距离（46-122厘米）\n",
    "   - 社交距离（1.2-3.7米）\n",
    "   - 公共距离（3.7米以上）\n",
    " - 一些研究已经考察了机器人采用不同距离的影响，以及它如何影响与人类的互动。"
   ]
  },
  {
   "attachments": {},
   "cell_type": "markdown",
   "metadata": {},
   "source": [
    "# 3. Backchannels\n",
    "\n",
    "后台是一种管理对话流程的机制，主要是表示对对话伙伴的理解和认可的头部手势。 它们已经被发现可以提高HRI中的参与和信任度。"
   ]
  },
  {
   "attachments": {},
   "cell_type": "markdown",
   "metadata": {},
   "source": [
    "# 4. 肢体语言\n",
    "\n",
    " - HRI的最新发展是使用肢体语言。 \n",
    " - 它可以用来传达情绪和个性，这两者都被证明对互动有积极影响。\n",
    " -  肢体语言模仿用于建立融洽关系。"
   ]
  },
  {
   "attachments": {},
   "cell_type": "markdown",
   "metadata": {},
   "source": [
    "# 5. 总结\n",
    " - 凝视--用于指示所指，管理对话流程，协调共同任务。 \n",
    " - 手势--用于信息传递，强调，提高互动质量。 \n",
    " - Proxemics--管理人际距离，改善互动，心理和身体的亲近感之间有联系。 \n",
    " - Backchannels--对自然互动和建立信任很重要。 \n",
    " - 肢体语言--可以用来传达个性和情感。"
   ]
  }
 ],
 "metadata": {
  "language_info": {
   "name": "python"
  },
  "orig_nbformat": 4
 },
 "nbformat": 4,
 "nbformat_minor": 2
}
